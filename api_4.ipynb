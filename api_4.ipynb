{
  "nbformat": 4,
  "nbformat_minor": 0,
  "metadata": {
    "colab": {
      "provenance": [],
      "include_colab_link": true
    },
    "kernelspec": {
      "name": "python3",
      "display_name": "Python 3"
    },
    "language_info": {
      "name": "python"
    }
  },
  "cells": [
    {
      "cell_type": "markdown",
      "metadata": {
        "id": "view-in-github",
        "colab_type": "text"
      },
      "source": [
        "<a href=\"https://colab.research.google.com/github/helloisachinaide/ProjetoAPI4/blob/main/api_4.ipynb\" target=\"_parent\"><img src=\"https://colab.research.google.com/assets/colab-badge.svg\" alt=\"Open In Colab\"/></a>"
      ]
    },
    {
      "cell_type": "code",
      "source": [
        "from google.colab import drive\n",
        "drive.mount('/content/drive')"
      ],
      "metadata": {
        "id": "o3IaD7Py_BDQ"
      },
      "execution_count": null,
      "outputs": []
    },
    {
      "cell_type": "markdown",
      "source": [
        "# Nova seção"
      ],
      "metadata": {
        "id": "1u-qgjTvD2oN"
      }
    },
    {
      "cell_type": "code",
      "source": [
        "import pandas as pd\n",
        "import datetime\n",
        "import glob\n",
        "\n",
        "# Defina o caminho do arquivo .txt\n",
        "txt_file = '2023Carga.txt'\n",
        "\n",
        "# Ler o arquivo .txt e exibir os primeiros registros para verificar a leitura\n",
        "df = pd.read_csv(txt_file, delimiter=';', encoding='utf-8')\n",
        "\n",
        "# Exibir as primeiras linhas do DataFrame para verificar se foi lido corretamente\n",
        "print(\"Visualização dos dados lidos do arquivo .txt:\")\n",
        "print(df.head())\n",
        "\n",
        "# Salvar o arquivo como .csv, caso o DataFrame não esteja vazio\n",
        "if not df.empty:\n",
        "    df.to_csv('2023Carga.csv', encoding='utf-8', index=False)\n",
        "    print(\"Arquivo convertido de .txt para .csv com sucesso!\")\n",
        "else:\n",
        "    print(\"Erro: O DataFrame está vazio após a leitura do arquivo .txt\")\n",
        "\n",
        "# Verificar se o CSV gerado está correto\n",
        "df_check = pd.read_csv(txt_file, encoding='utf-8')\n",
        "print(\"Visualização do arquivo CSV gerado:\")\n",
        "print(df_check.head())"
      ],
      "metadata": {
        "id": "qO8pCatl_5pn"
      },
      "execution_count": null,
      "outputs": []
    },
    {
      "cell_type": "code",
      "source": [
        "#Excluir dados desnecessarios\n",
        "\n",
        "df = pd.read_csv('2023Carga.csv')\n",
        "\n",
        "# Excluir colunas indesejadas\n",
        "colunas_a_excluir = ['Carga Geral Acondicionamento', 'ConteinerEstado', 'FlagAutorizacao', 'FlagCabotagem', 'FlagCabotagemMovimentacao', 'FlagConteinerTamanho', 'FlagLongoCurso', 'FlagMCOperacaoCarga', 'FlagOffshore', 'FlagTransporteViaInterioir']  # Substitua pelos nomes das colunas que você deseja excluir\n",
        "df = df.drop(columns=colunas_a_excluir)\n",
        "\n",
        "# Exibir as colunas após a exclusão\n",
        "print(\"Colunas após a exclusão:\", df.columns)\n",
        "\n",
        "# Salvar o DataFrame modificado de volta em um novo arquivo CSV\n",
        "df.to_csv('2023Carga_NOVO.csv', index=False)"
      ],
      "metadata": {
        "id": "Nvz2ZLJ1ALA9"
      },
      "execution_count": null,
      "outputs": []
    },
    {
      "cell_type": "code",
      "source": [
        "#excluir dados nulos\n",
        "\n",
        "df = pd.read_csv('2023Atracacao.csv')\n",
        "\n",
        "# Excluir linhas onde 'Data Chegada' é nula\n",
        "df = df.dropna(subset=['Data Chegada'])\n",
        "\n",
        "# Exibir as primeiras linhas após a exclusão\n",
        "print(\"Após a exclusão:\")\n",
        "print(df.head())\n",
        "\n",
        "# Salvar o DataFrame modificado em um novo arquivo CSV\n",
        "df.to_csv('2023Atracacao_mod.csv', index=False)"
      ],
      "metadata": {
        "id": "RVtLaWy1Aduy"
      },
      "execution_count": null,
      "outputs": []
    },
    {
      "cell_type": "code",
      "source": [
        "\n",
        "#Juntar todas as tabelas de atracacao e carga de 2014-2023 em dois CSV's\n",
        "\n",
        "\n",
        "# Encontrar todos os arquivos .csv no diretório atual\n",
        "arquivos = glob.glob('*.csv')\n",
        "\n",
        "# Criando uma lista para armazenar os DataFrames\n",
        "dataframes = []\n",
        "\n",
        "# Lendo apenas os arquivos de atracação (mod) ou carga(Carga)\n",
        "for arquivo in arquivos:\n",
        "    if 'mod' in arquivo:  # Verifica se o nome contém 'Carga' ou 'mod'\n",
        "        try:\n",
        "            df = pd.read_csv(arquivo)\n",
        "            dataframes.append(df)\n",
        "        except Exception as e:\n",
        "            print(f\"Erro ao ler {arquivo}: {e}\")\n",
        "\n",
        "# Verifica se há DataFrames para concatenar\n",
        "if dataframes:\n",
        "    # Concatenando todos os DataFrames de atracação ou carga\n",
        "    resultado = pd.concat(dataframes, ignore_index=True)\n",
        "\n",
        "    # Salvando o resultado em um novo arquivo .csv\n",
        "    resultado.to_csv('arquivo_atracacao_final_NOVO.csv', index=False)\n",
        "    print(\"Arquivos de atracação unidos com sucesso!\")\n",
        "else:\n",
        "\n",
        "    print(\"Nenhum arquivo de atracação válido encontrado.\")"
      ],
      "metadata": {
        "id": "7EkdyTXoAwZo"
      },
      "execution_count": null,
      "outputs": []
    },
    {
      "cell_type": "code",
      "source": [
        "#filtrar a tabela de TODAS as cargas para somente SH4 1005 = milho\n",
        "\n",
        "\n",
        "data = pd.read_csv('arquivo_carga_final.csv')\n",
        "\n",
        "\n",
        "# Filtrar apenas os registros do SH4 1005\n",
        "filtered_data = data[data['CDMercadoria'] == '1005']\n",
        "\n",
        "# Salvar os dados filtrados em um novo arquivo CSV\n",
        "filtered_data.to_csv('arquivo_carga_final_(so_milho).csv', index=False)"
      ],
      "metadata": {
        "id": "UvoAT9BEBQg6"
      },
      "execution_count": null,
      "outputs": []
    },
    {
      "cell_type": "code",
      "source": [
        "#converte datas para novo padrão\n",
        "\n",
        "ANTAQ_Limpa = pd.read_csv('arquivo_atracacao_final_NOVO.csv', low_memory=False)\n",
        "\n",
        "colunas_data = [\n",
        "    'Data Chegada', 'Data Atracação', 'Data Início Operação',\n",
        "    'Data Término Operação', 'Data Desatracação'\n",
        "]\n",
        "\n",
        "for coluna in colunas_data:\n",
        "    ANTAQ_Limpa[coluna] = pd.to_datetime(ANTAQ_Limpa[coluna], format='%d/%m/%Y %H:%M:%S', errors='coerce')\n",
        "\n",
        "# As colunas agora estão no formato datetime\n",
        "print(\"Colunas de data convertidas com sucesso.\")\n",
        "ANTAQ_Limpa.to_csv('arquivo_atracacao_final_NOVO.csv', index=False)"
      ],
      "metadata": {
        "id": "CYbztEzSCp_9"
      },
      "execution_count": null,
      "outputs": []
    },
    {
      "cell_type": "code",
      "source": [
        "#criaçao de novas colunas fazendo calculos pertinentes\n",
        "\n",
        "ANTAQ_Limpa['Tempo_espera_chegada'] = (ANTAQ_Limpa['Data Atracação'] - ANTAQ_Limpa['Data Chegada']).dt.total_seconds() / 3600\n",
        "ANTAQ_Limpa['Tempo_espera_inicial'] = (ANTAQ_Limpa['Data Início Operação'] - ANTAQ_Limpa['Data Atracação']).dt.total_seconds() / 3600\n",
        "ANTAQ_Limpa['Tempo_operacao'] = (ANTAQ_Limpa['Data Término Operação'] - ANTAQ_Limpa['Data Início Operação']).dt.total_seconds() / 3600\n",
        "ANTAQ_Limpa['Tempo_espera_final'] = (ANTAQ_Limpa['Data Desatracação'] - ANTAQ_Limpa['Data Término Operação']).dt.total_seconds() / 3600\n",
        "ANTAQ_Limpa['Tempo_ocupacao'] = (ANTAQ_Limpa['Data Desatracação'] - ANTAQ_Limpa['Data Atracação']).dt.total_seconds() / 3600\n",
        "\n",
        "print(\"Colunas novas criadas com sucesso.\")\n",
        "ANTAQ_Limpa.to_csv('arquivo_atracacao_final_NOVO.csv', index=False)"
      ],
      "metadata": {
        "id": "G61O-8SqC07L"
      },
      "execution_count": null,
      "outputs": []
    },
    {
      "cell_type": "code",
      "source": [
        "#concatenaçao dos dados, juntando tudo em um CSV\n",
        "\n",
        "tabela1 = pd.read_csv('arquivo_atracacao_final_NOVO.csv', low_memory=False)\n",
        "tabela2 = pd.read_csv('arquivo_carga_final_(so_milho).csv', low_memory=False)\n",
        "\n",
        "\n",
        "\n",
        "resultado = pd.merge(tabela1, tabela2, on='IDAtracacao', how='inner')\n",
        "\n",
        "\n",
        "pd.DataFrame(resultado)\n",
        "resultado.to_csv('carga_&_atracacao(so_milho)_NOVO.csv', index=False)\n",
        "print('dados juntados')\n",
        "print(resultado)"
      ],
      "metadata": {
        "id": "0YRSfDPBDNnq"
      },
      "execution_count": null,
      "outputs": []
    },
    {
      "cell_type": "code",
      "source": [
        "#conferencia se ha dados duplicados depois de contatenar, se tiver são excluidos\n",
        "\n",
        "ANTAQ_Limpa = pd.read_csv('carga_&_atracacao(so_milho).csv', low_memory=False)\n",
        "\n",
        "# Identificar duplicados\n",
        "duplicados = ANTAQ_Limpa['IDAtracacao'].duplicated(keep=False)\n",
        "\n",
        "# Excluir todas as linhas que têm valores duplicados\n",
        "ANTAQ_Limpa = ANTAQ_Limpa[~duplicados]\n",
        "\n",
        "# Exibir o DataFrame atualizado\n",
        "print(\"Tabela atualizada sem duplicatas na coluna IDAtracacao:\")\n",
        "print(ANTAQ_Limpa)\n",
        "\n",
        "\n",
        "\n",
        "ANTAQ_Limpa.to_csv('carga_&_atracacao_NOVO.csv', index=False)"
      ],
      "metadata": {
        "id": "W5p74i8TDj_F"
      },
      "execution_count": null,
      "outputs": []
    },
    {
      "cell_type": "code",
      "source": [
        "#arquivo final: carga_&_atracacao_NOVO.csv"
      ],
      "metadata": {
        "id": "A0VS2C1hEY-l"
      },
      "execution_count": null,
      "outputs": []
    }
  ]
}